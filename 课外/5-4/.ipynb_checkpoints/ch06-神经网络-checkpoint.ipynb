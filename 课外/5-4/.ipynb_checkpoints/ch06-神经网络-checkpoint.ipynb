{
 "cells": [
  {
   "cell_type": "markdown",
   "metadata": {
    "collapsed": true
   },
   "source": [
    "# 神经网络\n",
    "## 全连接层\n",
    "### 张量方式实现"
   ]
  },
  {
   "cell_type": "code",
   "execution_count": 1,
   "metadata": {},
   "outputs": [],
   "source": [
    "import tensorflow as tf\n",
    "from matplotlib import pyplot as plt\n",
    "plt.rcParams['font.size'] = 16\n",
    "plt.rcParams['font.family'] = ['STKaiti']\n",
    "plt.rcParams['axes.unicode_minus'] = False"
   ]
  },
  {
   "cell_type": "code",
   "execution_count": 2,
   "metadata": {
    "scrolled": true
   },
   "outputs": [
    {
     "data": {
      "text/plain": [
       "<tf.Tensor: id=32, shape=(2, 256), dtype=float32, numpy=\n",
       "array([[1.4457572e-01, 0.0000000e+00, 0.0000000e+00, 1.5885776e+00,\n",
       "        1.0439749e+00, 7.7912319e-01, 0.0000000e+00, 1.3450572e+00,\n",
       "        0.0000000e+00, 0.0000000e+00, 4.3180938e+00, 0.0000000e+00,\n",
       "        0.0000000e+00, 4.1043224e+00, 3.6832197e+00, 2.0345888e+00,\n",
       "        0.0000000e+00, 2.4156928e+00, 6.2482119e-01, 2.1313906e+00,\n",
       "        0.0000000e+00, 0.0000000e+00, 2.8110793e+00, 1.2761320e+00,\n",
       "        3.3316123e-01, 0.0000000e+00, 0.0000000e+00, 4.0703683e+00,\n",
       "        3.6970644e+00, 0.0000000e+00, 0.0000000e+00, 0.0000000e+00,\n",
       "        0.0000000e+00, 5.1246948e+00, 4.4117540e-01, 2.8882909e+00,\n",
       "        0.0000000e+00, 0.0000000e+00, 9.7089911e-01, 3.3954732e+00,\n",
       "        4.1278057e+00, 0.0000000e+00, 0.0000000e+00, 0.0000000e+00,\n",
       "        0.0000000e+00, 5.7234616e+00, 8.6819875e-01, 2.2879472e+00,\n",
       "        0.0000000e+00, 2.2198222e+00, 0.0000000e+00, 3.1001923e+00,\n",
       "        1.1919616e+00, 3.3295627e+00, 0.0000000e+00, 0.0000000e+00,\n",
       "        0.0000000e+00, 3.5908163e+00, 3.0272570e+00, 1.6754341e-01,\n",
       "        1.0535609e+00, 4.3685951e+00, 0.0000000e+00, 0.0000000e+00,\n",
       "        0.0000000e+00, 1.5276419e+00, 0.0000000e+00, 1.6658249e+00,\n",
       "        3.0669322e+00, 0.0000000e+00, 0.0000000e+00, 2.0797521e-01,\n",
       "        0.0000000e+00, 0.0000000e+00, 1.2374279e+00, 0.0000000e+00,\n",
       "        0.0000000e+00, 0.0000000e+00, 0.0000000e+00, 5.3036184e+00,\n",
       "        0.0000000e+00, 1.7677846e+00, 0.0000000e+00, 5.4665799e+00,\n",
       "        0.0000000e+00, 0.0000000e+00, 0.0000000e+00, 5.2840624e+00,\n",
       "        0.0000000e+00, 1.3125762e+00, 1.0423661e+00, 0.0000000e+00,\n",
       "        2.8083522e+00, 0.0000000e+00, 1.4011757e+00, 0.0000000e+00,\n",
       "        1.7042743e+00, 0.0000000e+00, 0.0000000e+00, 0.0000000e+00,\n",
       "        0.0000000e+00, 1.1773186e+00, 0.0000000e+00, 2.1219215e+00,\n",
       "        1.7009761e+00, 6.7060477e-01, 0.0000000e+00, 1.0148914e+00,\n",
       "        1.5465360e+00, 2.7701919e+00, 2.0300136e+00, 0.0000000e+00,\n",
       "        0.0000000e+00, 0.0000000e+00, 0.0000000e+00, 0.0000000e+00,\n",
       "        5.5319033e+00, 0.0000000e+00, 0.0000000e+00, 0.0000000e+00,\n",
       "        0.0000000e+00, 2.2194433e+00, 0.0000000e+00, 0.0000000e+00,\n",
       "        0.0000000e+00, 0.0000000e+00, 5.2075720e-01, 0.0000000e+00,\n",
       "        1.0547297e+00, 1.8048855e+00, 1.0783756e-01, 0.0000000e+00,\n",
       "        0.0000000e+00, 0.0000000e+00, 0.0000000e+00, 0.0000000e+00,\n",
       "        0.0000000e+00, 3.4681163e+00, 0.0000000e+00, 0.0000000e+00,\n",
       "        0.0000000e+00, 1.3255672e+00, 6.6420907e-01, 0.0000000e+00,\n",
       "        7.7916873e-01, 0.0000000e+00, 3.0769658e+00, 1.3348627e+00,\n",
       "        3.6879034e+00, 1.9871511e+00, 0.0000000e+00, 0.0000000e+00,\n",
       "        1.7444913e+00, 3.4223928e+00, 3.0347914e-01, 0.0000000e+00,\n",
       "        0.0000000e+00, 0.0000000e+00, 1.7596745e+00, 2.4907162e+00,\n",
       "        3.0627418e+00, 0.0000000e+00, 0.0000000e+00, 0.0000000e+00,\n",
       "        0.0000000e+00, 3.2861500e+00, 0.0000000e+00, 0.0000000e+00,\n",
       "        0.0000000e+00, 0.0000000e+00, 3.9055758e+00, 1.0461342e+00,\n",
       "        0.0000000e+00, 0.0000000e+00, 1.5456775e+00, 7.8033966e-01,\n",
       "        8.3895838e-01, 0.0000000e+00, 0.0000000e+00, 2.2837987e+00,\n",
       "        0.0000000e+00, 0.0000000e+00, 5.5422187e-03, 1.1403859e-01,\n",
       "        0.0000000e+00, 1.2095433e+00, 1.7129575e+00, 1.6419575e+00,\n",
       "        4.4684267e-01, 5.1872027e-01, 2.1097169e+00, 1.5454488e+00,\n",
       "        2.3979876e+00, 0.0000000e+00, 9.4418621e-01, 6.9402461e+00,\n",
       "        0.0000000e+00, 1.1125100e+00, 1.2111367e+00, 0.0000000e+00,\n",
       "        1.8309177e+00, 2.0388236e+00, 0.0000000e+00, 0.0000000e+00,\n",
       "        0.0000000e+00, 0.0000000e+00, 0.0000000e+00, 0.0000000e+00,\n",
       "        0.0000000e+00, 1.0941027e+00, 1.8273660e+00, 1.9182837e+00,\n",
       "        0.0000000e+00, 0.0000000e+00, 0.0000000e+00, 5.3054829e+00,\n",
       "        0.0000000e+00, 3.0004754e+00, 2.7474165e+00, 0.0000000e+00,\n",
       "        1.3111091e+00, 2.2261970e+00, 0.0000000e+00, 0.0000000e+00,\n",
       "        9.9181747e-01, 3.6140809e+00, 1.9993970e+00, 4.7401142e+00,\n",
       "        0.0000000e+00, 8.1009042e-01, 0.0000000e+00, 2.5986152e+00,\n",
       "        0.0000000e+00, 0.0000000e+00, 0.0000000e+00, 0.0000000e+00,\n",
       "        5.0805168e+00, 3.8091679e+00, 5.7832909e-01, 3.5714302e+00,\n",
       "        4.2079430e+00, 1.5617929e+00, 5.1026669e+00, 6.5857297e-01,\n",
       "        1.8174318e+00, 2.4871097e+00, 0.0000000e+00, 0.0000000e+00,\n",
       "        0.0000000e+00, 0.0000000e+00, 9.2392981e-01, 0.0000000e+00,\n",
       "        4.3760085e+00, 0.0000000e+00, 0.0000000e+00, 1.5075514e+00],\n",
       "       [8.7832201e-01, 0.0000000e+00, 0.0000000e+00, 9.1710794e-01,\n",
       "        1.5630457e+00, 0.0000000e+00, 2.2782421e-01, 5.9972242e-02,\n",
       "        0.0000000e+00, 0.0000000e+00, 1.4565945e-02, 0.0000000e+00,\n",
       "        4.1295848e+00, 2.7470212e+00, 9.7948509e-01, 0.0000000e+00,\n",
       "        3.3151944e+00, 1.8512800e+00, 1.3619306e+00, 0.0000000e+00,\n",
       "        0.0000000e+00, 8.9752936e-01, 7.5278872e-01, 0.0000000e+00,\n",
       "        0.0000000e+00, 0.0000000e+00, 0.0000000e+00, 1.0337144e+00,\n",
       "        0.0000000e+00, 5.1528068e+00, 2.3917878e+00, 4.3787770e+00,\n",
       "        0.0000000e+00, 1.5585386e+00, 0.0000000e+00, 0.0000000e+00,\n",
       "        7.5307465e-01, 1.5129611e-01, 0.0000000e+00, 0.0000000e+00,\n",
       "        0.0000000e+00, 0.0000000e+00, 2.8983312e+00, 1.9024457e+00,\n",
       "        0.0000000e+00, 0.0000000e+00, 3.0917478e-01, 0.0000000e+00,\n",
       "        6.5598363e-01, 0.0000000e+00, 2.1112294e+00, 2.5924401e+00,\n",
       "        3.3948598e+00, 0.0000000e+00, 0.0000000e+00, 0.0000000e+00,\n",
       "        0.0000000e+00, 4.4281859e+00, 0.0000000e+00, 0.0000000e+00,\n",
       "        4.4698329e+00, 3.2444415e+00, 1.9391026e+00, 1.6628875e+00,\n",
       "        0.0000000e+00, 0.0000000e+00, 4.5874354e-01, 2.3167276e-01,\n",
       "        0.0000000e+00, 0.0000000e+00, 1.3781320e+00, 3.9873242e+00,\n",
       "        3.1230459e+00, 0.0000000e+00, 1.6772239e+00, 0.0000000e+00,\n",
       "        5.6948298e-01, 0.0000000e+00, 0.0000000e+00, 0.0000000e+00,\n",
       "        1.0610836e+00, 0.0000000e+00, 1.6360415e+00, 1.6136130e+00,\n",
       "        1.6715432e+00, 0.0000000e+00, 5.5681950e-01, 2.2155418e+00,\n",
       "        3.6776289e-01, 2.1361184e+00, 3.6108749e+00, 0.0000000e+00,\n",
       "        0.0000000e+00, 0.0000000e+00, 0.0000000e+00, 2.6568766e+00,\n",
       "        0.0000000e+00, 2.2606027e+00, 2.1168242e+00, 0.0000000e+00,\n",
       "        0.0000000e+00, 1.8528820e+00, 5.8745193e-01, 1.4070964e-01,\n",
       "        0.0000000e+00, 9.7248316e-01, 0.0000000e+00, 4.0289736e+00,\n",
       "        0.0000000e+00, 3.4026903e-01, 0.0000000e+00, 0.0000000e+00,\n",
       "        0.0000000e+00, 0.0000000e+00, 0.0000000e+00, 5.4798675e-01,\n",
       "        2.0467963e+00, 1.6678374e+00, 0.0000000e+00, 9.9849379e-01,\n",
       "        0.0000000e+00, 1.5834469e-01, 1.3633517e+00, 0.0000000e+00,\n",
       "        0.0000000e+00, 0.0000000e+00, 0.0000000e+00, 0.0000000e+00,\n",
       "        2.2913544e+00, 0.0000000e+00, 0.0000000e+00, 3.9285338e-01,\n",
       "        0.0000000e+00, 0.0000000e+00, 0.0000000e+00, 6.2841415e-01,\n",
       "        0.0000000e+00, 1.4563254e+00, 0.0000000e+00, 5.5986887e-01,\n",
       "        0.0000000e+00, 1.4578068e+00, 0.0000000e+00, 0.0000000e+00,\n",
       "        0.0000000e+00, 0.0000000e+00, 0.0000000e+00, 2.5412967e+00,\n",
       "        5.0054140e+00, 0.0000000e+00, 1.7242203e+00, 1.3499653e+00,\n",
       "        0.0000000e+00, 0.0000000e+00, 0.0000000e+00, 0.0000000e+00,\n",
       "        0.0000000e+00, 0.0000000e+00, 0.0000000e+00, 0.0000000e+00,\n",
       "        0.0000000e+00, 1.0508972e+00, 4.4391817e-01, 4.3264878e-01,\n",
       "        2.1464529e+00, 0.0000000e+00, 2.8329771e+00, 3.8421059e+00,\n",
       "        2.2088094e+00, 0.0000000e+00, 1.4398234e+00, 3.2789762e+00,\n",
       "        0.0000000e+00, 1.0888265e+00, 2.7165384e+00, 1.2394415e-01,\n",
       "        1.0367149e+00, 2.6919603e+00, 5.3468841e-01, 0.0000000e+00,\n",
       "        0.0000000e+00, 0.0000000e+00, 2.3063517e+00, 3.8659568e+00,\n",
       "        0.0000000e+00, 0.0000000e+00, 9.8905158e-01, 5.2594888e-01,\n",
       "        6.5768600e-01, 3.9560888e+00, 8.4054255e-01, 5.3066432e-01,\n",
       "        3.9229577e+00, 3.6988783e+00, 6.9477425e+00, 0.0000000e+00,\n",
       "        0.0000000e+00, 0.0000000e+00, 3.8620110e+00, 1.0070596e+00,\n",
       "        0.0000000e+00, 5.2309918e-01, 0.0000000e+00, 0.0000000e+00,\n",
       "        0.0000000e+00, 0.0000000e+00, 0.0000000e+00, 0.0000000e+00,\n",
       "        3.0635428e+00, 3.1577382e+00, 0.0000000e+00, 7.3853290e-01,\n",
       "        4.9755821e+00, 9.7593963e-01, 0.0000000e+00, 0.0000000e+00,\n",
       "        0.0000000e+00, 0.0000000e+00, 0.0000000e+00, 0.0000000e+00,\n",
       "        0.0000000e+00, 0.0000000e+00, 1.3546337e+00, 0.0000000e+00,\n",
       "        3.5712800e+00, 2.3364487e+00, 1.2819785e-01, 1.4282907e+00,\n",
       "        0.0000000e+00, 1.1326282e+00, 1.3802602e+00, 3.9922757e+00,\n",
       "        1.3481843e+00, 1.1615274e+00, 0.0000000e+00, 0.0000000e+00,\n",
       "        0.0000000e+00, 1.1572182e+00, 0.0000000e+00, 0.0000000e+00,\n",
       "        0.0000000e+00, 0.0000000e+00, 3.2973570e-01, 1.5644734e+00,\n",
       "        0.0000000e+00, 0.0000000e+00, 0.0000000e+00, 7.2466010e-01,\n",
       "        0.0000000e+00, 1.8030484e+00, 0.0000000e+00, 0.0000000e+00,\n",
       "        0.0000000e+00, 1.9469011e+00, 2.8017514e+00, 2.0590529e+00]],\n",
       "      dtype=float32)>"
      ]
     },
     "execution_count": 2,
     "metadata": {},
     "output_type": "execute_result"
    }
   ],
   "source": [
    "# 创建 W,b 张量\n",
    "x = tf.random.normal([2,784])\n",
    "w1 = tf.Variable(tf.random.truncated_normal([784, 256], stddev=0.1))\n",
    "b1 = tf.Variable(tf.zeros([256]))\n",
    "# 线性变换\n",
    "o1 = tf.matmul(x,w1) + b1 \n",
    "# 激活函数\n",
    "o1 = tf.nn.relu(o1) \n",
    "o1"
   ]
  },
  {
   "cell_type": "markdown",
   "metadata": {},
   "source": [
    "### 层方式实现"
   ]
  },
  {
   "cell_type": "code",
   "execution_count": 3,
   "metadata": {},
   "outputs": [
    {
     "data": {
      "text/plain": [
       "<tf.Tensor: id=65, shape=(4, 512), dtype=float32, numpy=\n",
       "array([[0.30526173, 1.4002054 , 0.        , ..., 0.        , 0.        ,\n",
       "        0.        ],\n",
       "       [0.        , 0.14786741, 1.9189566 , ..., 0.        , 0.        ,\n",
       "        1.9087815 ],\n",
       "       [2.654635  , 0.        , 1.280081  , ..., 0.        , 0.42551   ,\n",
       "        1.1506792 ],\n",
       "       [0.        , 0.        , 0.        , ..., 0.01546198, 0.        ,\n",
       "        0.        ]], dtype=float32)>"
      ]
     },
     "execution_count": 3,
     "metadata": {},
     "output_type": "execute_result"
    }
   ],
   "source": [
    "x = tf.random.normal([4,28*28])\n",
    "# 导入层模块\n",
    "from tensorflow.keras import layers \n",
    "# 创建全连接层，指定输出节点数和激活函数\n",
    "fc = layers.Dense(512, activation=tf.nn.relu)\n",
    "# 通过 fc 类实例完成一次全连接层的计算，返回输出张量\n",
    "h1 = fc(x) \n",
    "h1"
   ]
  },
  {
   "cell_type": "markdown",
   "metadata": {},
   "source": [
    "上述通过一行代码即可以创建一层全连接层 fc， 并指定输出节点数为 512， 输入的节点数在fc(x)计算时自动获取， 并创建内部权值张量$W$和偏置张量$\\mathbf{b}$。 我们可以通过类内部的成员名 kernel 和 bias 来获取权值张量$W$和偏置张量$\\mathbf{b}$对象"
   ]
  },
  {
   "cell_type": "code",
   "execution_count": 4,
   "metadata": {},
   "outputs": [
    {
     "data": {
      "text/plain": [
       "<tf.Variable 'dense/kernel:0' shape=(784, 512) dtype=float32, numpy=\n",
       "array([[ 0.06673512, -0.02965283,  0.00828745, ...,  0.06302126,\n",
       "        -0.00772014, -0.05110519],\n",
       "       [-0.01418904,  0.04908816, -0.02749477, ...,  0.05126443,\n",
       "        -0.03161873,  0.05034576],\n",
       "       [-0.05878403, -0.00868686,  0.0597257 , ...,  0.0382687 ,\n",
       "        -0.0149098 ,  0.05203287],\n",
       "       ...,\n",
       "       [ 0.00840023,  0.04076394, -0.00407338, ...,  0.04379862,\n",
       "         0.01195769, -0.01303417],\n",
       "       [ 0.02782042, -0.02848876,  0.062751  , ..., -0.04502054,\n",
       "        -0.05900744,  0.0626393 ],\n",
       "       [ 0.01346859,  0.05516848, -0.00456174, ...,  0.05716816,\n",
       "        -0.05639091, -0.0405523 ]], dtype=float32)>"
      ]
     },
     "execution_count": 4,
     "metadata": {},
     "output_type": "execute_result"
    }
   ],
   "source": [
    "# 获取 Dense 类的权值矩阵\n",
    "fc.kernel "
   ]
  },
  {
   "cell_type": "code",
   "execution_count": 5,
   "metadata": {
    "scrolled": true
   },
   "outputs": [
    {
     "data": {
      "text/plain": [
       "<tf.Variable 'dense/bias:0' shape=(512,) dtype=float32, numpy=\n",
       "array([0., 0., 0., 0., 0., 0., 0., 0., 0., 0., 0., 0., 0., 0., 0., 0., 0.,\n",
       "       0., 0., 0., 0., 0., 0., 0., 0., 0., 0., 0., 0., 0., 0., 0., 0., 0.,\n",
       "       0., 0., 0., 0., 0., 0., 0., 0., 0., 0., 0., 0., 0., 0., 0., 0., 0.,\n",
       "       0., 0., 0., 0., 0., 0., 0., 0., 0., 0., 0., 0., 0., 0., 0., 0., 0.,\n",
       "       0., 0., 0., 0., 0., 0., 0., 0., 0., 0., 0., 0., 0., 0., 0., 0., 0.,\n",
       "       0., 0., 0., 0., 0., 0., 0., 0., 0., 0., 0., 0., 0., 0., 0., 0., 0.,\n",
       "       0., 0., 0., 0., 0., 0., 0., 0., 0., 0., 0., 0., 0., 0., 0., 0., 0.,\n",
       "       0., 0., 0., 0., 0., 0., 0., 0., 0., 0., 0., 0., 0., 0., 0., 0., 0.,\n",
       "       0., 0., 0., 0., 0., 0., 0., 0., 0., 0., 0., 0., 0., 0., 0., 0., 0.,\n",
       "       0., 0., 0., 0., 0., 0., 0., 0., 0., 0., 0., 0., 0., 0., 0., 0., 0.,\n",
       "       0., 0., 0., 0., 0., 0., 0., 0., 0., 0., 0., 0., 0., 0., 0., 0., 0.,\n",
       "       0., 0., 0., 0., 0., 0., 0., 0., 0., 0., 0., 0., 0., 0., 0., 0., 0.,\n",
       "       0., 0., 0., 0., 0., 0., 0., 0., 0., 0., 0., 0., 0., 0., 0., 0., 0.,\n",
       "       0., 0., 0., 0., 0., 0., 0., 0., 0., 0., 0., 0., 0., 0., 0., 0., 0.,\n",
       "       0., 0., 0., 0., 0., 0., 0., 0., 0., 0., 0., 0., 0., 0., 0., 0., 0.,\n",
       "       0., 0., 0., 0., 0., 0., 0., 0., 0., 0., 0., 0., 0., 0., 0., 0., 0.,\n",
       "       0., 0., 0., 0., 0., 0., 0., 0., 0., 0., 0., 0., 0., 0., 0., 0., 0.,\n",
       "       0., 0., 0., 0., 0., 0., 0., 0., 0., 0., 0., 0., 0., 0., 0., 0., 0.,\n",
       "       0., 0., 0., 0., 0., 0., 0., 0., 0., 0., 0., 0., 0., 0., 0., 0., 0.,\n",
       "       0., 0., 0., 0., 0., 0., 0., 0., 0., 0., 0., 0., 0., 0., 0., 0., 0.,\n",
       "       0., 0., 0., 0., 0., 0., 0., 0., 0., 0., 0., 0., 0., 0., 0., 0., 0.,\n",
       "       0., 0., 0., 0., 0., 0., 0., 0., 0., 0., 0., 0., 0., 0., 0., 0., 0.,\n",
       "       0., 0., 0., 0., 0., 0., 0., 0., 0., 0., 0., 0., 0., 0., 0., 0., 0.,\n",
       "       0., 0., 0., 0., 0., 0., 0., 0., 0., 0., 0., 0., 0., 0., 0., 0., 0.,\n",
       "       0., 0., 0., 0., 0., 0., 0., 0., 0., 0., 0., 0., 0., 0., 0., 0., 0.,\n",
       "       0., 0., 0., 0., 0., 0., 0., 0., 0., 0., 0., 0., 0., 0., 0., 0., 0.,\n",
       "       0., 0., 0., 0., 0., 0., 0., 0., 0., 0., 0., 0., 0., 0., 0., 0., 0.,\n",
       "       0., 0., 0., 0., 0., 0., 0., 0., 0., 0., 0., 0., 0., 0., 0., 0., 0.,\n",
       "       0., 0., 0., 0., 0., 0., 0., 0., 0., 0., 0., 0., 0., 0., 0., 0., 0.,\n",
       "       0., 0., 0., 0., 0., 0., 0., 0., 0., 0., 0., 0., 0., 0., 0., 0., 0.,\n",
       "       0., 0.], dtype=float32)>"
      ]
     },
     "execution_count": 5,
     "metadata": {},
     "output_type": "execute_result"
    }
   ],
   "source": [
    "# 获取 Dense 类的偏置向量\n",
    "fc.bias "
   ]
  },
  {
   "cell_type": "code",
   "execution_count": 6,
   "metadata": {
    "scrolled": true
   },
   "outputs": [
    {
     "data": {
      "text/plain": [
       "[<tf.Variable 'dense/kernel:0' shape=(784, 512) dtype=float32, numpy=\n",
       " array([[ 0.06673512, -0.02965283,  0.00828745, ...,  0.06302126,\n",
       "         -0.00772014, -0.05110519],\n",
       "        [-0.01418904,  0.04908816, -0.02749477, ...,  0.05126443,\n",
       "         -0.03161873,  0.05034576],\n",
       "        [-0.05878403, -0.00868686,  0.0597257 , ...,  0.0382687 ,\n",
       "         -0.0149098 ,  0.05203287],\n",
       "        ...,\n",
       "        [ 0.00840023,  0.04076394, -0.00407338, ...,  0.04379862,\n",
       "          0.01195769, -0.01303417],\n",
       "        [ 0.02782042, -0.02848876,  0.062751  , ..., -0.04502054,\n",
       "         -0.05900744,  0.0626393 ],\n",
       "        [ 0.01346859,  0.05516848, -0.00456174, ...,  0.05716816,\n",
       "         -0.05639091, -0.0405523 ]], dtype=float32)>,\n",
       " <tf.Variable 'dense/bias:0' shape=(512,) dtype=float32, numpy=\n",
       " array([0., 0., 0., 0., 0., 0., 0., 0., 0., 0., 0., 0., 0., 0., 0., 0., 0.,\n",
       "        0., 0., 0., 0., 0., 0., 0., 0., 0., 0., 0., 0., 0., 0., 0., 0., 0.,\n",
       "        0., 0., 0., 0., 0., 0., 0., 0., 0., 0., 0., 0., 0., 0., 0., 0., 0.,\n",
       "        0., 0., 0., 0., 0., 0., 0., 0., 0., 0., 0., 0., 0., 0., 0., 0., 0.,\n",
       "        0., 0., 0., 0., 0., 0., 0., 0., 0., 0., 0., 0., 0., 0., 0., 0., 0.,\n",
       "        0., 0., 0., 0., 0., 0., 0., 0., 0., 0., 0., 0., 0., 0., 0., 0., 0.,\n",
       "        0., 0., 0., 0., 0., 0., 0., 0., 0., 0., 0., 0., 0., 0., 0., 0., 0.,\n",
       "        0., 0., 0., 0., 0., 0., 0., 0., 0., 0., 0., 0., 0., 0., 0., 0., 0.,\n",
       "        0., 0., 0., 0., 0., 0., 0., 0., 0., 0., 0., 0., 0., 0., 0., 0., 0.,\n",
       "        0., 0., 0., 0., 0., 0., 0., 0., 0., 0., 0., 0., 0., 0., 0., 0., 0.,\n",
       "        0., 0., 0., 0., 0., 0., 0., 0., 0., 0., 0., 0., 0., 0., 0., 0., 0.,\n",
       "        0., 0., 0., 0., 0., 0., 0., 0., 0., 0., 0., 0., 0., 0., 0., 0., 0.,\n",
       "        0., 0., 0., 0., 0., 0., 0., 0., 0., 0., 0., 0., 0., 0., 0., 0., 0.,\n",
       "        0., 0., 0., 0., 0., 0., 0., 0., 0., 0., 0., 0., 0., 0., 0., 0., 0.,\n",
       "        0., 0., 0., 0., 0., 0., 0., 0., 0., 0., 0., 0., 0., 0., 0., 0., 0.,\n",
       "        0., 0., 0., 0., 0., 0., 0., 0., 0., 0., 0., 0., 0., 0., 0., 0., 0.,\n",
       "        0., 0., 0., 0., 0., 0., 0., 0., 0., 0., 0., 0., 0., 0., 0., 0., 0.,\n",
       "        0., 0., 0., 0., 0., 0., 0., 0., 0., 0., 0., 0., 0., 0., 0., 0., 0.,\n",
       "        0., 0., 0., 0., 0., 0., 0., 0., 0., 0., 0., 0., 0., 0., 0., 0., 0.,\n",
       "        0., 0., 0., 0., 0., 0., 0., 0., 0., 0., 0., 0., 0., 0., 0., 0., 0.,\n",
       "        0., 0., 0., 0., 0., 0., 0., 0., 0., 0., 0., 0., 0., 0., 0., 0., 0.,\n",
       "        0., 0., 0., 0., 0., 0., 0., 0., 0., 0., 0., 0., 0., 0., 0., 0., 0.,\n",
       "        0., 0., 0., 0., 0., 0., 0., 0., 0., 0., 0., 0., 0., 0., 0., 0., 0.,\n",
       "        0., 0., 0., 0., 0., 0., 0., 0., 0., 0., 0., 0., 0., 0., 0., 0., 0.,\n",
       "        0., 0., 0., 0., 0., 0., 0., 0., 0., 0., 0., 0., 0., 0., 0., 0., 0.,\n",
       "        0., 0., 0., 0., 0., 0., 0., 0., 0., 0., 0., 0., 0., 0., 0., 0., 0.,\n",
       "        0., 0., 0., 0., 0., 0., 0., 0., 0., 0., 0., 0., 0., 0., 0., 0., 0.,\n",
       "        0., 0., 0., 0., 0., 0., 0., 0., 0., 0., 0., 0., 0., 0., 0., 0., 0.,\n",
       "        0., 0., 0., 0., 0., 0., 0., 0., 0., 0., 0., 0., 0., 0., 0., 0., 0.,\n",
       "        0., 0., 0., 0., 0., 0., 0., 0., 0., 0., 0., 0., 0., 0., 0., 0., 0.,\n",
       "        0., 0.], dtype=float32)>]"
      ]
     },
     "execution_count": 6,
     "metadata": {},
     "output_type": "execute_result"
    }
   ],
   "source": [
    "# 待优化参数列表\n",
    "fc.trainable_variables"
   ]
  },
  {
   "cell_type": "code",
   "execution_count": 7,
   "metadata": {
    "scrolled": true
   },
   "outputs": [
    {
     "data": {
      "text/plain": [
       "[<tf.Variable 'dense/kernel:0' shape=(784, 512) dtype=float32, numpy=\n",
       " array([[ 0.06673512, -0.02965283,  0.00828745, ...,  0.06302126,\n",
       "         -0.00772014, -0.05110519],\n",
       "        [-0.01418904,  0.04908816, -0.02749477, ...,  0.05126443,\n",
       "         -0.03161873,  0.05034576],\n",
       "        [-0.05878403, -0.00868686,  0.0597257 , ...,  0.0382687 ,\n",
       "         -0.0149098 ,  0.05203287],\n",
       "        ...,\n",
       "        [ 0.00840023,  0.04076394, -0.00407338, ...,  0.04379862,\n",
       "          0.01195769, -0.01303417],\n",
       "        [ 0.02782042, -0.02848876,  0.062751  , ..., -0.04502054,\n",
       "         -0.05900744,  0.0626393 ],\n",
       "        [ 0.01346859,  0.05516848, -0.00456174, ...,  0.05716816,\n",
       "         -0.05639091, -0.0405523 ]], dtype=float32)>,\n",
       " <tf.Variable 'dense/bias:0' shape=(512,) dtype=float32, numpy=\n",
       " array([0., 0., 0., 0., 0., 0., 0., 0., 0., 0., 0., 0., 0., 0., 0., 0., 0.,\n",
       "        0., 0., 0., 0., 0., 0., 0., 0., 0., 0., 0., 0., 0., 0., 0., 0., 0.,\n",
       "        0., 0., 0., 0., 0., 0., 0., 0., 0., 0., 0., 0., 0., 0., 0., 0., 0.,\n",
       "        0., 0., 0., 0., 0., 0., 0., 0., 0., 0., 0., 0., 0., 0., 0., 0., 0.,\n",
       "        0., 0., 0., 0., 0., 0., 0., 0., 0., 0., 0., 0., 0., 0., 0., 0., 0.,\n",
       "        0., 0., 0., 0., 0., 0., 0., 0., 0., 0., 0., 0., 0., 0., 0., 0., 0.,\n",
       "        0., 0., 0., 0., 0., 0., 0., 0., 0., 0., 0., 0., 0., 0., 0., 0., 0.,\n",
       "        0., 0., 0., 0., 0., 0., 0., 0., 0., 0., 0., 0., 0., 0., 0., 0., 0.,\n",
       "        0., 0., 0., 0., 0., 0., 0., 0., 0., 0., 0., 0., 0., 0., 0., 0., 0.,\n",
       "        0., 0., 0., 0., 0., 0., 0., 0., 0., 0., 0., 0., 0., 0., 0., 0., 0.,\n",
       "        0., 0., 0., 0., 0., 0., 0., 0., 0., 0., 0., 0., 0., 0., 0., 0., 0.,\n",
       "        0., 0., 0., 0., 0., 0., 0., 0., 0., 0., 0., 0., 0., 0., 0., 0., 0.,\n",
       "        0., 0., 0., 0., 0., 0., 0., 0., 0., 0., 0., 0., 0., 0., 0., 0., 0.,\n",
       "        0., 0., 0., 0., 0., 0., 0., 0., 0., 0., 0., 0., 0., 0., 0., 0., 0.,\n",
       "        0., 0., 0., 0., 0., 0., 0., 0., 0., 0., 0., 0., 0., 0., 0., 0., 0.,\n",
       "        0., 0., 0., 0., 0., 0., 0., 0., 0., 0., 0., 0., 0., 0., 0., 0., 0.,\n",
       "        0., 0., 0., 0., 0., 0., 0., 0., 0., 0., 0., 0., 0., 0., 0., 0., 0.,\n",
       "        0., 0., 0., 0., 0., 0., 0., 0., 0., 0., 0., 0., 0., 0., 0., 0., 0.,\n",
       "        0., 0., 0., 0., 0., 0., 0., 0., 0., 0., 0., 0., 0., 0., 0., 0., 0.,\n",
       "        0., 0., 0., 0., 0., 0., 0., 0., 0., 0., 0., 0., 0., 0., 0., 0., 0.,\n",
       "        0., 0., 0., 0., 0., 0., 0., 0., 0., 0., 0., 0., 0., 0., 0., 0., 0.,\n",
       "        0., 0., 0., 0., 0., 0., 0., 0., 0., 0., 0., 0., 0., 0., 0., 0., 0.,\n",
       "        0., 0., 0., 0., 0., 0., 0., 0., 0., 0., 0., 0., 0., 0., 0., 0., 0.,\n",
       "        0., 0., 0., 0., 0., 0., 0., 0., 0., 0., 0., 0., 0., 0., 0., 0., 0.,\n",
       "        0., 0., 0., 0., 0., 0., 0., 0., 0., 0., 0., 0., 0., 0., 0., 0., 0.,\n",
       "        0., 0., 0., 0., 0., 0., 0., 0., 0., 0., 0., 0., 0., 0., 0., 0., 0.,\n",
       "        0., 0., 0., 0., 0., 0., 0., 0., 0., 0., 0., 0., 0., 0., 0., 0., 0.,\n",
       "        0., 0., 0., 0., 0., 0., 0., 0., 0., 0., 0., 0., 0., 0., 0., 0., 0.,\n",
       "        0., 0., 0., 0., 0., 0., 0., 0., 0., 0., 0., 0., 0., 0., 0., 0., 0.,\n",
       "        0., 0., 0., 0., 0., 0., 0., 0., 0., 0., 0., 0., 0., 0., 0., 0., 0.,\n",
       "        0., 0.], dtype=float32)>]"
      ]
     },
     "execution_count": 7,
     "metadata": {},
     "output_type": "execute_result"
    }
   ],
   "source": [
    "# 返回所有参数列表\n",
    "fc.variables "
   ]
  },
  {
   "cell_type": "markdown",
   "metadata": {},
   "source": [
    "## 神经网络\n",
    "### 张量方式实现"
   ]
  },
  {
   "cell_type": "code",
   "execution_count": 8,
   "metadata": {},
   "outputs": [],
   "source": [
    "# 隐藏层 1 张量\n",
    "w1 = tf.Variable(tf.random.truncated_normal([784, 256], stddev=0.1))\n",
    "b1 = tf.Variable(tf.zeros([256]))\n",
    "# 隐藏层 2 张量\n",
    "w2 = tf.Variable(tf.random.truncated_normal([256, 128], stddev=0.1))\n",
    "b2 = tf.Variable(tf.zeros([128]))\n",
    "# 隐藏层 3 张量\n",
    "w3 = tf.Variable(tf.random.truncated_normal([128, 64], stddev=0.1))\n",
    "b3 = tf.Variable(tf.zeros([64]))\n",
    "# 输出层张量\n",
    "w4 = tf.Variable(tf.random.truncated_normal([64, 10], stddev=0.1))\n",
    "b4 = tf.Variable(tf.zeros([10]))"
   ]
  },
  {
   "cell_type": "code",
   "execution_count": 9,
   "metadata": {},
   "outputs": [],
   "source": [
    "with tf.GradientTape() as tape: # 梯度记录器\n",
    "    # x: [b, 28*28]\n",
    "    # 隐藏层 1 前向计算， [b, 28*28] => [b, 256]\n",
    "    h1 = x@w1 + tf.broadcast_to(b1, [x.shape[0], 256])\n",
    "    h1 = tf.nn.relu(h1)\n",
    "    # 隐藏层 2 前向计算， [b, 256] => [b, 128]\n",
    "    h2 = h1@w2 + b2\n",
    "    h2 = tf.nn.relu(h2)\n",
    "    # 隐藏层 3 前向计算， [b, 128] => [b, 64]\n",
    "    h3 = h2@w3 + b3\n",
    "    h3 = tf.nn.relu(h3)\n",
    "    # 输出层前向计算， [b, 64] => [b, 10]\n",
    "    h4 = h3@w4 + b4"
   ]
  },
  {
   "cell_type": "markdown",
   "metadata": {},
   "source": [
    "### 层方式实现"
   ]
  },
  {
   "cell_type": "code",
   "execution_count": 10,
   "metadata": {},
   "outputs": [],
   "source": [
    "# 导入常用网络层 layers\n",
    "from tensorflow.keras import layers,Sequential\n",
    "# 隐藏层 1\n",
    "fc1 = layers.Dense(256, activation=tf.nn.relu) \n",
    "# 隐藏层 2\n",
    "fc2 = layers.Dense(128, activation=tf.nn.relu) \n",
    "# 隐藏层 3\n",
    "fc3 = layers.Dense(64, activation=tf.nn.relu) \n",
    "# 输出层\n",
    "fc4 = layers.Dense(10, activation=None) "
   ]
  },
  {
   "cell_type": "code",
   "execution_count": 11,
   "metadata": {},
   "outputs": [],
   "source": [
    "x = tf.random.normal([4,28*28])\n",
    "# 通过隐藏层 1 得到输出\n",
    "h1 = fc1(x) \n",
    "# 通过隐藏层 2 得到输出\n",
    "h2 = fc2(h1) \n",
    "# 通过隐藏层 3 得到输出\n",
    "h3 = fc3(h2) \n",
    "# 通过输出层得到网络输出\n",
    "h4 = fc4(h3) "
   ]
  },
  {
   "cell_type": "markdown",
   "metadata": {},
   "source": [
    "对于这种数据依次向前传播的网络， 也可以通过 Sequential 容器封装成一个网络大类对象，调用大类的前向计算函数一次即可完成所有层的前向计算，使用起来更加方便。"
   ]
  },
  {
   "cell_type": "code",
   "execution_count": 12,
   "metadata": {},
   "outputs": [],
   "source": [
    "# 导入 Sequential 容器\n",
    "from tensorflow.keras import layers,Sequential\n",
    "# 通过 Sequential 容器封装为一个网络类\n",
    "model = Sequential([\n",
    "    layers.Dense(256, activation=tf.nn.relu) , # 创建隐藏层 1\n",
    "    layers.Dense(128, activation=tf.nn.relu) , # 创建隐藏层 2\n",
    "    layers.Dense(64, activation=tf.nn.relu) , # 创建隐藏层 3\n",
    "    layers.Dense(10, activation=None) , # 创建输出层\n",
    "])"
   ]
  },
  {
   "cell_type": "code",
   "execution_count": 13,
   "metadata": {},
   "outputs": [],
   "source": [
    "out = model(x) # 前向计算得到输出"
   ]
  },
  {
   "cell_type": "markdown",
   "metadata": {},
   "source": [
    "## 激活函数\n",
    "\n",
    "###  Sigmoid\n",
    "\n",
    "$$\\text{Sigmoid}(x) \\triangleq \\frac{1}{1 + e^{-x}}$$"
   ]
  },
  {
   "cell_type": "code",
   "execution_count": 14,
   "metadata": {},
   "outputs": [
    {
     "data": {
      "text/plain": [
       "<tf.Tensor: id=406, shape=(10,), dtype=float32, numpy=\n",
       "array([-6.       , -4.6666665, -3.3333333, -2.       , -0.6666665,\n",
       "        0.666667 ,  2.       ,  3.333334 ,  4.666667 ,  6.       ],\n",
       "      dtype=float32)>"
      ]
     },
     "execution_count": 14,
     "metadata": {},
     "output_type": "execute_result"
    }
   ],
   "source": [
    "# 构造-6~6 的输入向量\n",
    "x = tf.linspace(-6.,6.,10)\n",
    "x"
   ]
  },
  {
   "cell_type": "code",
   "execution_count": 15,
   "metadata": {},
   "outputs": [
    {
     "data": {
      "text/plain": [
       "<tf.Tensor: id=407, shape=(10,), dtype=float32, numpy=\n",
       "array([0.00247264, 0.00931597, 0.03444517, 0.11920291, 0.33924365,\n",
       "       0.6607564 , 0.8807971 , 0.96555483, 0.99068403, 0.9975274 ],\n",
       "      dtype=float32)>"
      ]
     },
     "execution_count": 15,
     "metadata": {},
     "output_type": "execute_result"
    }
   ],
   "source": [
    "# 通过 Sigmoid 函数\n",
    "sigmoid_y = tf.nn.sigmoid(x)\n",
    "sigmoid_y"
   ]
  },
  {
   "cell_type": "code",
   "execution_count": 16,
   "metadata": {},
   "outputs": [],
   "source": [
    "def set_plt_ax():\n",
    "    # get current axis 获得坐标轴对象\n",
    "    ax = plt.gca()                                           \n",
    "\n",
    "    ax.spines['right'].set_color('none') \n",
    "    # 将右边 上边的两条边颜色设置为空 其实就相当于抹掉这两条边\n",
    "    ax.spines['top'].set_color('none')         \n",
    "\n",
    "    ax.xaxis.set_ticks_position('bottom')   \n",
    "    # 指定下边的边作为 x 轴，指定左边的边为 y 轴\n",
    "    ax.yaxis.set_ticks_position('left') \n",
    "\n",
    "    # 指定 data  设置的bottom(也就是指定的x轴)绑定到y轴的0这个点上\n",
    "    ax.spines['bottom'].set_position(('data', 0)) \n",
    "    ax.spines['left'].set_position(('data', 0))"
   ]
  },
  {
   "cell_type": "code",
   "execution_count": 17,
   "metadata": {},
   "outputs": [
    {
     "data": {
      "image/png": "[encoded data removed]",
      "text/plain": [
       "<Figure size 432x288 with 1 Axes>"
      ]
     },
     "metadata": {
      "needs_background": "light"
     },
     "output_type": "display_data"
    }
   ],
   "source": [
    "set_plt_ax()\n",
    "plt.plot(x, sigmoid_y, color='C4', label='Sigmoid')\n",
    "plt.xlim(-6, 6)\n",
    "plt.ylim(0, 1)\n",
    "plt.legend(loc=2)\n",
    "plt.show()"
   ]
  },
  {
   "cell_type": "markdown",
   "metadata": {},
   "source": [
    "### ReLU\n",
    "\n",
    "$$\\text{ReLU}(x) \\triangleq \\max(0, x)$$"
   ]
  },
  {
   "cell_type": "code",
   "execution_count": 18,
   "metadata": {},
   "outputs": [
    {
     "data": {
      "text/plain": [
       "<tf.Tensor: id=464, shape=(10,), dtype=float32, numpy=\n",
       "array([0.      , 0.      , 0.      , 0.      , 0.      , 0.666667,\n",
       "       2.      , 3.333334, 4.666667, 6.      ], dtype=float32)>"
      ]
     },
     "execution_count": 18,
     "metadata": {},
     "output_type": "execute_result"
    }
   ],
   "source": [
    "# 通过 ReLU 激活函数\n",
    "relu_y = tf.nn.relu(x) \n",
    "relu_y"
   ]
  },
  {
   "cell_type": "code",
   "execution_count": 19,
   "metadata": {},
   "outputs": [
    {
     "data": {
      "image/png": "[encoded data removed]",
      "text/plain": [
       "<Figure size 432x288 with 1 Axes>"
      ]
     },
     "metadata": {
      "needs_background": "light"
     },
     "output_type": "display_data"
    }
   ],
   "source": [
    "set_plt_ax()\n",
    "\n",
    "plt.plot(x, relu_y, color='C4', label='ReLU')\n",
    "plt.xlim(-6, 6)\n",
    "plt.ylim(0, 6)\n",
    "plt.legend(loc=2)\n",
    "plt.show()"
   ]
  },
  {
   "cell_type": "markdown",
   "metadata": {},
   "source": [
    "### LeakyReLU\n",
    "\n",
    "$$\\text{LeakyReLU}(x) \\triangleq \\left\\{ \\begin{array}{cc}\n",
    "x \\quad x \\geqslant 0 \\\\\n",
    "px \\quad x < 0\n",
    "\\end{array} \\right.$$"
   ]
  },
  {
   "cell_type": "code",
   "execution_count": 20,
   "metadata": {},
   "outputs": [
    {
     "data": {
      "text/plain": [
       "<tf.Tensor: id=521, shape=(10,), dtype=float32, numpy=\n",
       "array([-0.6       , -0.46666667, -0.33333334, -0.2       , -0.06666666,\n",
       "        0.666667  ,  2.        ,  3.333334  ,  4.666667  ,  6.        ],\n",
       "      dtype=float32)>"
      ]
     },
     "execution_count": 20,
     "metadata": {},
     "output_type": "execute_result"
    }
   ],
   "source": [
    "# 通过 LeakyReLU 激活函数\n",
    "leakyrelu_y = tf.nn.leaky_relu(x, alpha=0.1)\n",
    "leakyrelu_y"
   ]
  },
  {
   "cell_type": "code",
   "execution_count": 21,
   "metadata": {},
   "outputs": [
    {
     "data": {
      "image/png": "[encoded data removed]",
      "text/plain": [
       "<Figure size 432x288 with 1 Axes>"
      ]
     },
     "metadata": {
      "needs_background": "light"
     },
     "output_type": "display_data"
    }
   ],
   "source": [
    "set_plt_ax()\n",
    "\n",
    "plt.plot(x, leakyrelu_y, color='C4', label='LeakyReLU')\n",
    "plt.xlim(-6, 6)\n",
    "plt.ylim(-1, 6)\n",
    "plt.legend(loc=2)\n",
    "plt.show()"
   ]
  },
  {
   "cell_type": "markdown",
   "metadata": {},
   "source": [
    "### Tanh\n",
    "$$\\tanh(x)=\\frac{e^x-e^{-x}}{e^x + e^{-x}}= 2 \\cdot \\text{sigmoid}(2x) - 1$$"
   ]
  },
  {
   "cell_type": "code",
   "execution_count": 22,
   "metadata": {},
   "outputs": [
    {
     "data": {
      "text/plain": [
       "<tf.Tensor: id=578, shape=(10,), dtype=float32, numpy=\n",
       "array([-0.9999877 , -0.99982315, -0.997458  , -0.9640276 , -0.58278286,\n",
       "        0.5827831 ,  0.9640276 ,  0.997458  ,  0.99982315,  0.9999877 ],\n",
       "      dtype=float32)>"
      ]
     },
     "execution_count": 22,
     "metadata": {},
     "output_type": "execute_result"
    }
   ],
   "source": [
    "# 通过 tanh 激活函数\n",
    "tanh_y = tf.nn.tanh(x)\n",
    "tanh_y"
   ]
  },
  {
   "cell_type": "code",
   "execution_count": 23,
   "metadata": {},
   "outputs": [
    {
     "data": {
      "image/png": "[encoded data removed]",
      "text/plain": [
       "<Figure size 432x288 with 1 Axes>"
      ]
     },
     "metadata": {
      "needs_background": "light"
     },
     "output_type": "display_data"
    }
   ],
   "source": [
    "set_plt_ax()\n",
    "\n",
    "plt.plot(x, tanh_y, color='C4', label='Tanh')\n",
    "plt.xlim(-6, 6)\n",
    "plt.ylim(-1.5, 1.5)\n",
    "plt.legend(loc=2)\n",
    "plt.show()"
   ]
  },
  {
   "cell_type": "markdown",
   "metadata": {},
   "source": [
    "## 输出层设计\n",
    "\n",
    "### [0,1]区间，和为 1\n",
    "\n",
    "$$Softmax(z_i) \\triangleq \\frac{e^{z_i}}{\\sum_{j=1}^{d_{out}} e^{z_j}}$$"
   ]
  },
  {
   "cell_type": "code",
   "execution_count": 24,
   "metadata": {},
   "outputs": [
    {
     "data": {
      "text/plain": [
       "<tf.Tensor: id=636, shape=(3,), dtype=float32, numpy=array([0.6590012, 0.242433 , 0.0985659], dtype=float32)>"
      ]
     },
     "execution_count": 24,
     "metadata": {},
     "output_type": "execute_result"
    }
   ],
   "source": [
    "z = tf.constant([2.,1.,0.1])\n",
    "# 通过 Softmax 函数\n",
    "tf.nn.softmax(z) "
   ]
  },
  {
   "cell_type": "code",
   "execution_count": 25,
   "metadata": {},
   "outputs": [
    {
     "data": {
      "text/plain": [
       "<tf.Tensor: id=682, shape=(), dtype=float32, numpy=2.1910672>"
      ]
     },
     "execution_count": 25,
     "metadata": {},
     "output_type": "execute_result"
    }
   ],
   "source": [
    "# 构造输出层的输出\n",
    "z = tf.random.normal([2,10]) \n",
    "# 构造真实值\n",
    "y_onehot = tf.constant([1,3]) \n",
    "# one-hot 编码\n",
    "y_onehot = tf.one_hot(y_onehot, depth=10) \n",
    "# 输出层未使用 Softmax 函数，故 from_logits 设置为 True\n",
    "# 这样 categorical_crossentropy 函数在计算损失函数前，会先内部调用 Softmax 函数\n",
    "loss = tf.keras.losses.categorical_crossentropy(y_onehot,z,from_logits=True)\n",
    "loss = tf.reduce_mean(loss) # 计算平均交叉熵损失\n",
    "loss"
   ]
  },
  {
   "cell_type": "code",
   "execution_count": 26,
   "metadata": {},
   "outputs": [
    {
     "data": {
      "text/plain": [
       "<tf.Tensor: id=732, shape=(), dtype=float32, numpy=2.1910672>"
      ]
     },
     "execution_count": 26,
     "metadata": {},
     "output_type": "execute_result"
    }
   ],
   "source": [
    "# 创建 Softmax 与交叉熵计算类，输出层的输出 z 未使用 softmax\n",
    "criteon = tf.keras.losses.CategoricalCrossentropy(from_logits=True)\n",
    "loss = criteon(y_onehot,z) # 计算损失\n",
    "loss"
   ]
  },
  {
   "cell_type": "markdown",
   "metadata": {},
   "source": [
    "### [-1, 1]"
   ]
  },
  {
   "cell_type": "code",
   "execution_count": 27,
   "metadata": {},
   "outputs": [
    {
     "data": {
      "text/plain": [
       "<tf.Tensor: id=737, shape=(10,), dtype=float32, numpy=\n",
       "array([-0.9999877 , -0.99982315, -0.997458  , -0.9640276 , -0.58278286,\n",
       "        0.5827831 ,  0.9640276 ,  0.997458  ,  0.99982315,  0.9999877 ],\n",
       "      dtype=float32)>"
      ]
     },
     "execution_count": 27,
     "metadata": {},
     "output_type": "execute_result"
    }
   ],
   "source": [
    "x = tf.linspace(-6.,6.,10)\n",
    "# tanh 激活函数\n",
    "tf.tanh(x) "
   ]
  },
  {
   "cell_type": "markdown",
   "metadata": {},
   "source": [
    "## 误差计算\n",
    "\n",
    "### 均方差误差函数\n",
    "\n",
    "$$\\text{MSE}(y, o) \\triangleq \\frac{1}{d_{out}} \\sum_{i=1}^{d_{out}}(y_i-o_i)^2$$\n",
    "MSE 误差函数的值总是大于等于 0，当 MSE 函数达到最小值 0 时， 输出等于真实标签，此时神经网络的参数达到最优状态。"
   ]
  },
  {
   "cell_type": "code",
   "execution_count": 28,
   "metadata": {},
   "outputs": [
    {
     "data": {
      "text/plain": [
       "<tf.Tensor: id=751, shape=(2,), dtype=float32, numpy=array([1.2226775, 0.9393095], dtype=float32)>"
      ]
     },
     "execution_count": 28,
     "metadata": {},
     "output_type": "execute_result"
    }
   ],
   "source": [
    "# 构造网络输出\n",
    "o = tf.random.normal([2,10]) \n",
    "# 构造真实值\n",
    "y_onehot = tf.constant([1,3]) \n",
    "y_onehot = tf.one_hot(y_onehot, depth=10)\n",
    "# 计算均方差\n",
    "loss = tf.keras.losses.MSE(y_onehot, o) \n",
    "loss"
   ]
  },
  {
   "cell_type": "code",
   "execution_count": 29,
   "metadata": {},
   "outputs": [
    {
     "data": {
      "text/plain": [
       "<tf.Tensor: id=753, shape=(), dtype=float32, numpy=1.0809934>"
      ]
     },
     "execution_count": 29,
     "metadata": {},
     "output_type": "execute_result"
    }
   ],
   "source": [
    "# 计算 batch 均方差\n",
    "loss = tf.reduce_mean(loss) \n",
    "loss"
   ]
  },
  {
   "cell_type": "code",
   "execution_count": 30,
   "metadata": {},
   "outputs": [
    {
     "data": {
      "text/plain": [
       "<tf.Tensor: id=773, shape=(), dtype=float32, numpy=1.0809934>"
      ]
     },
     "execution_count": 30,
     "metadata": {},
     "output_type": "execute_result"
    }
   ],
   "source": [
    "# 创建 MSE 类\n",
    "criteon = tf.keras.losses.MeanSquaredError()\n",
    "# 计算 batch 均方差\n",
    "loss = criteon(y_onehot,o) \n",
    "loss"
   ]
  },
  {
   "cell_type": "markdown",
   "metadata": {},
   "source": [
    "### 交叉熵误差函数\n",
    "\n",
    "$$\n",
    "\\begin{aligned} H(p \\| q) \n",
    "&=D_{K L}(p \\| q) \\\\\n",
    "&=\\sum_{j} y_{j} \\log \\left(\\frac{y_j}{o_j}\\right) \\\\ \n",
    "&= 1 \\cdot \\log \\frac{1}{o_i}+ \\sum_{j \\neq i} 0 \\cdot \\log \\left(\\frac{0}{o_j}\\right) \\\\\n",
    "& =-\\log o_{i} \n",
    "\\end{aligned}\n",
    "$$"
   ]
  },
  {
   "cell_type": "markdown",
   "metadata": {},
   "source": [
    "##  汽车油耗预测实战"
   ]
  },
  {
   "cell_type": "code",
   "execution_count": 1,
   "metadata": {},
   "outputs": [],
   "source": [
    "import matplotlib.pyplot as plt\n",
    "import pandas as pd\n",
    "import seaborn as sns\n",
    "import tensorflow as tf\n",
    "from tensorflow import keras\n",
    "from tensorflow.keras import layers, losses"
   ]
  },
  {
   "cell_type": "code",
   "execution_count": 2,
   "metadata": {},
   "outputs": [],
   "source": [
    "def load_dataset():\n",
    "    # 在线下载汽车效能数据集\n",
    "    dataset_path = keras.utils.get_file(\"auto-mpg.data\",\n",
    "                                        \"http://archive.ics.uci.edu/ml/machine-learning-databases/auto-mpg/auto-mpg.data\")\n",
    "\n",
    "    # 效能（公里数每加仑），气缸数，排量，马力，重量\n",
    "    # 加速度，型号年份，产地\n",
    "    column_names = ['MPG', 'Cylinders', 'Displacement', 'Horsepower', 'Weight',\n",
    "                    'Acceleration', 'Model Year', 'Origin']\n",
    "    raw_dataset = pd.read_csv(dataset_path, names=column_names,\n",
    "                              na_values=\"?\", comment='\\t',\n",
    "                              sep=\" \", skipinitialspace=True)\n",
    "\n",
    "    dataset = raw_dataset.copy()\n",
    "    return dataset"
   ]
  },
  {
   "cell_type": "code",
   "execution_count": 3,
   "metadata": {},
   "outputs": [
    {
     "data": {
      "text/html": [
       "<div>\n",
       "<style scoped>\n",
       "    .dataframe tbody tr th:only-of-type {\n",
       "        vertical-align: middle;\n",
       "    }\n",
       "\n",
       "    .dataframe tbody tr th {\n",
       "        vertical-align: top;\n",
       "    }\n",
       "\n",
       "    .dataframe thead th {\n",
       "        text-align: right;\n",
       "    }\n",
       "</style>\n",
       "<table border=\"1\" class=\"dataframe\">\n",
       "  <thead>\n",
       "    <tr style=\"text-align: right;\">\n",
       "      <th></th>\n",
       "      <th>MPG</th>\n",
       "      <th>Cylinders</th>\n",
       "      <th>Displacement</th>\n",
       "      <th>Horsepower</th>\n",
       "      <th>Weight</th>\n",
       "      <th>Acceleration</th>\n",
       "      <th>Model Year</th>\n",
       "      <th>Origin</th>\n",
       "    </tr>\n",
       "  </thead>\n",
       "  <tbody>\n",
       "    <tr>\n",
       "      <th>0</th>\n",
       "      <td>18.0</td>\n",
       "      <td>8</td>\n",
       "      <td>307.0</td>\n",
       "      <td>130.0</td>\n",
       "      <td>3504.0</td>\n",
       "      <td>12.0</td>\n",
       "      <td>70</td>\n",
       "      <td>1</td>\n",
       "    </tr>\n",
       "    <tr>\n",
       "      <th>1</th>\n",
       "      <td>15.0</td>\n",
       "      <td>8</td>\n",
       "      <td>350.0</td>\n",
       "      <td>165.0</td>\n",
       "      <td>3693.0</td>\n",
       "      <td>11.5</td>\n",
       "      <td>70</td>\n",
       "      <td>1</td>\n",
       "    </tr>\n",
       "    <tr>\n",
       "      <th>2</th>\n",
       "      <td>18.0</td>\n",
       "      <td>8</td>\n",
       "      <td>318.0</td>\n",
       "      <td>150.0</td>\n",
       "      <td>3436.0</td>\n",
       "      <td>11.0</td>\n",
       "      <td>70</td>\n",
       "      <td>1</td>\n",
       "    </tr>\n",
       "    <tr>\n",
       "      <th>3</th>\n",
       "      <td>16.0</td>\n",
       "      <td>8</td>\n",
       "      <td>304.0</td>\n",
       "      <td>150.0</td>\n",
       "      <td>3433.0</td>\n",
       "      <td>12.0</td>\n",
       "      <td>70</td>\n",
       "      <td>1</td>\n",
       "    </tr>\n",
       "    <tr>\n",
       "      <th>4</th>\n",
       "      <td>17.0</td>\n",
       "      <td>8</td>\n",
       "      <td>302.0</td>\n",
       "      <td>140.0</td>\n",
       "      <td>3449.0</td>\n",
       "      <td>10.5</td>\n",
       "      <td>70</td>\n",
       "      <td>1</td>\n",
       "    </tr>\n",
       "  </tbody>\n",
       "</table>\n",
       "</div>"
      ],
      "text/plain": [
       "    MPG  Cylinders  Displacement  Horsepower  Weight  Acceleration  \\\n",
       "0  18.0          8         307.0       130.0  3504.0          12.0   \n",
       "1  15.0          8         350.0       165.0  3693.0          11.5   \n",
       "2  18.0          8         318.0       150.0  3436.0          11.0   \n",
       "3  16.0          8         304.0       150.0  3433.0          12.0   \n",
       "4  17.0          8         302.0       140.0  3449.0          10.5   \n",
       "\n",
       "   Model Year  Origin  \n",
       "0          70       1  \n",
       "1          70       1  \n",
       "2          70       1  \n",
       "3          70       1  \n",
       "4          70       1  "
      ]
     },
     "execution_count": 3,
     "metadata": {},
     "output_type": "execute_result"
    }
   ],
   "source": [
    "dataset = load_dataset()\n",
    "# 查看部分数据\n",
    "dataset.head()"
   ]
  },
  {
   "cell_type": "code",
   "execution_count": 4,
   "metadata": {},
   "outputs": [],
   "source": [
    "def preprocess_dataset(dataset):\n",
    "    dataset = dataset.copy()\n",
    "    # 统计空白数据,并清除\n",
    "    dataset = dataset.dropna()\n",
    "\n",
    "    # 处理类别型数据，其中origin列代表了类别1,2,3,分布代表产地：美国、欧洲、日本\n",
    "    # 其弹出这一列\n",
    "    origin = dataset.pop('Origin')\n",
    "    # 根据origin列来写入新列\n",
    "    dataset['USA'] = (origin == 1) * 1.0\n",
    "    dataset['Europe'] = (origin == 2) * 1.0\n",
    "    dataset['Japan'] = (origin == 3) * 1.0\n",
    "\n",
    "    # 切分为训练集和测试集\n",
    "    train_dataset = dataset.sample(frac=0.8, random_state=0)\n",
    "    test_dataset = dataset.drop(train_dataset.index)\n",
    "\n",
    "    return train_dataset, test_dataset"
   ]
  },
  {
   "cell_type": "code",
   "execution_count": 5,
   "metadata": {},
   "outputs": [],
   "source": [
    "train_dataset, test_dataset = preprocess_dataset(dataset)"
   ]
  },
  {
   "cell_type": "code",
   "execution_count": 6,
   "metadata": {},
   "outputs": [
    {
     "data": {
      "image/png": "[encoded data removed]",
      "text/plain": [
       "<Figure size 720x720 with 20 Axes>"
      ]
     },
     "metadata": {
      "needs_background": "light"
     },
     "output_type": "display_data"
    }
   ],
   "source": [
    "# 统计数据\n",
    "sns_plot = sns.pairplot(train_dataset[[\"Cylinders\", \"Displacement\", \"Weight\", \"MPG\"]], diag_kind=\"kde\")"
   ]
  },
  {
   "cell_type": "code",
   "execution_count": 7,
   "metadata": {
    "scrolled": false
   },
   "outputs": [
    {
     "data": {
      "text/html": [
       "<div>\n",
       "<style scoped>\n",
       "    .dataframe tbody tr th:only-of-type {\n",
       "        vertical-align: middle;\n",
       "    }\n",
       "\n",
       "    .dataframe tbody tr th {\n",
       "        vertical-align: top;\n",
       "    }\n",
       "\n",
       "    .dataframe thead th {\n",
       "        text-align: right;\n",
       "    }\n",
       "</style>\n",
       "<table border=\"1\" class=\"dataframe\">\n",
       "  <thead>\n",
       "    <tr style=\"text-align: right;\">\n",
       "      <th></th>\n",
       "      <th>count</th>\n",
       "      <th>mean</th>\n",
       "      <th>std</th>\n",
       "      <th>min</th>\n",
       "      <th>25%</th>\n",
       "      <th>50%</th>\n",
       "      <th>75%</th>\n",
       "      <th>max</th>\n",
       "    </tr>\n",
       "  </thead>\n",
       "  <tbody>\n",
       "    <tr>\n",
       "      <th>Cylinders</th>\n",
       "      <td>314.0</td>\n",
       "      <td>5.477707</td>\n",
       "      <td>1.699788</td>\n",
       "      <td>3.0</td>\n",
       "      <td>4.00</td>\n",
       "      <td>4.0</td>\n",
       "      <td>8.00</td>\n",
       "      <td>8.0</td>\n",
       "    </tr>\n",
       "    <tr>\n",
       "      <th>Displacement</th>\n",
       "      <td>314.0</td>\n",
       "      <td>195.318471</td>\n",
       "      <td>104.331589</td>\n",
       "      <td>68.0</td>\n",
       "      <td>105.50</td>\n",
       "      <td>151.0</td>\n",
       "      <td>265.75</td>\n",
       "      <td>455.0</td>\n",
       "    </tr>\n",
       "    <tr>\n",
       "      <th>Horsepower</th>\n",
       "      <td>314.0</td>\n",
       "      <td>104.869427</td>\n",
       "      <td>38.096214</td>\n",
       "      <td>46.0</td>\n",
       "      <td>76.25</td>\n",
       "      <td>94.5</td>\n",
       "      <td>128.00</td>\n",
       "      <td>225.0</td>\n",
       "    </tr>\n",
       "    <tr>\n",
       "      <th>Weight</th>\n",
       "      <td>314.0</td>\n",
       "      <td>2990.251592</td>\n",
       "      <td>843.898596</td>\n",
       "      <td>1649.0</td>\n",
       "      <td>2256.50</td>\n",
       "      <td>2822.5</td>\n",
       "      <td>3608.00</td>\n",
       "      <td>5140.0</td>\n",
       "    </tr>\n",
       "    <tr>\n",
       "      <th>Acceleration</th>\n",
       "      <td>314.0</td>\n",
       "      <td>15.559236</td>\n",
       "      <td>2.789230</td>\n",
       "      <td>8.0</td>\n",
       "      <td>13.80</td>\n",
       "      <td>15.5</td>\n",
       "      <td>17.20</td>\n",
       "      <td>24.8</td>\n",
       "    </tr>\n",
       "    <tr>\n",
       "      <th>Model Year</th>\n",
       "      <td>314.0</td>\n",
       "      <td>75.898089</td>\n",
       "      <td>3.675642</td>\n",
       "      <td>70.0</td>\n",
       "      <td>73.00</td>\n",
       "      <td>76.0</td>\n",
       "      <td>79.00</td>\n",
       "      <td>82.0</td>\n",
       "    </tr>\n",
       "    <tr>\n",
       "      <th>USA</th>\n",
       "      <td>314.0</td>\n",
       "      <td>0.624204</td>\n",
       "      <td>0.485101</td>\n",
       "      <td>0.0</td>\n",
       "      <td>0.00</td>\n",
       "      <td>1.0</td>\n",
       "      <td>1.00</td>\n",
       "      <td>1.0</td>\n",
       "    </tr>\n",
       "    <tr>\n",
       "      <th>Europe</th>\n",
       "      <td>314.0</td>\n",
       "      <td>0.178344</td>\n",
       "      <td>0.383413</td>\n",
       "      <td>0.0</td>\n",
       "      <td>0.00</td>\n",
       "      <td>0.0</td>\n",
       "      <td>0.00</td>\n",
       "      <td>1.0</td>\n",
       "    </tr>\n",
       "    <tr>\n",
       "      <th>Japan</th>\n",
       "      <td>314.0</td>\n",
       "      <td>0.197452</td>\n",
       "      <td>0.398712</td>\n",
       "      <td>0.0</td>\n",
       "      <td>0.00</td>\n",
       "      <td>0.0</td>\n",
       "      <td>0.00</td>\n",
       "      <td>1.0</td>\n",
       "    </tr>\n",
       "  </tbody>\n",
       "</table>\n",
       "</div>"
      ],
      "text/plain": [
       "              count         mean         std     min      25%     50%  \\\n",
       "Cylinders     314.0     5.477707    1.699788     3.0     4.00     4.0   \n",
       "Displacement  314.0   195.318471  104.331589    68.0   105.50   151.0   \n",
       "Horsepower    314.0   104.869427   38.096214    46.0    76.25    94.5   \n",
       "Weight        314.0  2990.251592  843.898596  1649.0  2256.50  2822.5   \n",
       "Acceleration  314.0    15.559236    2.789230     8.0    13.80    15.5   \n",
       "Model Year    314.0    75.898089    3.675642    70.0    73.00    76.0   \n",
       "USA           314.0     0.624204    0.485101     0.0     0.00     1.0   \n",
       "Europe        314.0     0.178344    0.383413     0.0     0.00     0.0   \n",
       "Japan         314.0     0.197452    0.398712     0.0     0.00     0.0   \n",
       "\n",
       "                  75%     max  \n",
       "Cylinders        8.00     8.0  \n",
       "Displacement   265.75   455.0  \n",
       "Horsepower     128.00   225.0  \n",
       "Weight        3608.00  5140.0  \n",
       "Acceleration    17.20    24.8  \n",
       "Model Year      79.00    82.0  \n",
       "USA              1.00     1.0  \n",
       "Europe           0.00     1.0  \n",
       "Japan            0.00     1.0  "
      ]
     },
     "execution_count": 7,
     "metadata": {},
     "output_type": "execute_result"
    }
   ],
   "source": [
    "# 查看训练集的输入X的统计数据\n",
    "train_stats = train_dataset.describe()\n",
    "train_stats.pop(\"MPG\")\n",
    "train_stats = train_stats.transpose()\n",
    "train_stats"
   ]
  },
  {
   "cell_type": "code",
   "execution_count": 8,
   "metadata": {},
   "outputs": [],
   "source": [
    "def norm(x, train_stats):\n",
    "    \"\"\"\n",
    "    标准化数据\n",
    "    :param x:\n",
    "    :param train_stats: get_train_stats(train_dataset)\n",
    "    :return:\n",
    "    \"\"\"\n",
    "    return (x - train_stats['mean']) / train_stats['std']"
   ]
  },
  {
   "cell_type": "code",
   "execution_count": 9,
   "metadata": {},
   "outputs": [
    {
     "name": "stdout",
     "output_type": "stream",
     "text": [
      "(314, 9) (314,)\n",
      "(78, 9) (78,)\n"
     ]
    }
   ],
   "source": [
    "# 移动MPG油耗效能这一列为真实标签Y\n",
    "train_labels = train_dataset.pop('MPG')\n",
    "test_labels = test_dataset.pop('MPG')\n",
    "\n",
    "# 进行标准化\n",
    "normed_train_data = norm(train_dataset, train_stats)\n",
    "normed_test_data = norm(test_dataset, train_stats)\n",
    "\n",
    "print(normed_train_data.shape,train_labels.shape)\n",
    "print(normed_test_data.shape, test_labels.shape)"
   ]
  },
  {
   "cell_type": "code",
   "execution_count": 10,
   "metadata": {},
   "outputs": [],
   "source": [
    "class Network(keras.Model):\n",
    "    # 回归网络\n",
    "    def __init__(self):\n",
    "        super(Network, self).__init__()\n",
    "        # 创建3个全连接层\n",
    "        self.fc1 = layers.Dense(64, activation='relu')\n",
    "        self.fc2 = layers.Dense(64, activation='relu')\n",
    "        self.fc3 = layers.Dense(1)\n",
    "\n",
    "    def call(self, inputs):\n",
    "        # 依次通过3个全连接层\n",
    "        x = self.fc1(inputs)\n",
    "        x = self.fc2(x)\n",
    "        x = self.fc3(x)\n",
    "\n",
    "        return x"
   ]
  },
  {
   "cell_type": "code",
   "execution_count": 11,
   "metadata": {},
   "outputs": [],
   "source": [
    "def build_model():\n",
    "    # 创建网络\n",
    "    model = Network()\n",
    "    model.build(input_shape=(4, 9))\n",
    "    model.summary()\n",
    "    return model"
   ]
  },
  {
   "cell_type": "code",
   "execution_count": 12,
   "metadata": {
    "scrolled": true
   },
   "outputs": [
    {
     "name": "stdout",
     "output_type": "stream",
     "text": [
      "Model: \"network\"\n",
      "_________________________________________________________________\n",
      "Layer (type)                 Output Shape              Param #   \n",
      "=================================================================\n",
      "dense (Dense)                multiple                  640       \n",
      "_________________________________________________________________\n",
      "dense_1 (Dense)              multiple                  4160      \n",
      "_________________________________________________________________\n",
      "dense_2 (Dense)              multiple                  65        \n",
      "=================================================================\n",
      "Total params: 4,865\n",
      "Trainable params: 4,865\n",
      "Non-trainable params: 0\n",
      "_________________________________________________________________\n"
     ]
    }
   ],
   "source": [
    "model = build_model()\n",
    "optimizer = tf.keras.optimizers.RMSprop(0.001)\n",
    "train_db = tf.data.Dataset.from_tensor_slices((normed_train_data.values, train_labels.values))\n",
    "train_db = train_db.shuffle(100).batch(32)"
   ]
  },
  {
   "cell_type": "code",
   "execution_count": 13,
   "metadata": {},
   "outputs": [],
   "source": [
    "def train(model, train_db, optimizer, normed_test_data, test_labels):\n",
    "    train_mae_losses = []\n",
    "    test_mae_losses = []\n",
    "    for epoch in range(200):\n",
    "        for step, (x, y) in enumerate(train_db):\n",
    "\n",
    "            with tf.GradientTape() as tape:\n",
    "                out = model(x)\n",
    "                loss = tf.reduce_mean(losses.MSE(y, out))\n",
    "                mae_loss = tf.reduce_mean(losses.MAE(y, out))\n",
    "\n",
    "            if step % 10 == 0:\n",
    "                print(epoch, step, float(loss))\n",
    "\n",
    "            grads = tape.gradient(loss, model.trainable_variables)\n",
    "            optimizer.apply_gradients(zip(grads, model.trainable_variables))\n",
    "\n",
    "        train_mae_losses.append(float(mae_loss))\n",
    "        out = model(tf.constant(normed_test_data.values))\n",
    "        test_mae_losses.append(tf.reduce_mean(losses.MAE(test_labels, out)))\n",
    "\n",
    "    return train_mae_losses, test_mae_losses"
   ]
  },
  {
   "cell_type": "code",
   "execution_count": 14,
   "metadata": {},
   "outputs": [],
   "source": [
    "def plot(train_mae_losses, test_mae_losses):\n",
    "    plt.figure()\n",
    "    plt.xlabel('Epoch')\n",
    "    plt.ylabel('MAE')\n",
    "    plt.plot(train_mae_losses, label='Train')\n",
    "    plt.plot(test_mae_losses, label='Test')\n",
    "    plt.legend()\n",
    "    # plt.ylim([0,10])\n",
    "    plt.legend()\n",
    "    plt.show()"
   ]
  },
  {
   "cell_type": "code",
   "execution_count": 15,
   "metadata": {
    "scrolled": true
   },
   "outputs": [
    {
     "name": "stdout",
     "output_type": "stream",
     "text": [
      "WARNING:tensorflow:Layer network is casting an input tensor from dtype float64 to the layer's dtype of float32, which is new behavior in TensorFlow 2.  The layer has dtype float32 because it's dtype defaults to floatx.\n",
      "\n",
      "If you intended to run this layer in float32, you can safely ignore this warning. If in doubt, this warning is likely only an issue if you are porting a TensorFlow 1.X model to TensorFlow 2.\n",
      "\n",
      "To change all layers to have dtype float64 by default, call `tf.keras.backend.set_floatx('float64')`. To change just this layer, pass dtype='float64' to the layer constructor. If you are the author of this layer, you can disable autocasting by passing autocast=False to the base Layer constructor.\n",
      "\n",
      "0 0 534.096435546875\n",
      "1 0 566.61279296875\n",
      "2 0 428.67803955078125\n",
      "3 0 412.2016906738281\n",
      "4 0 391.4834289550781\n",
      "5 0 334.907958984375\n",
      "6 0 267.7318115234375\n",
      "7 0 202.6365966796875\n",
      "8 0 123.75961303710938\n",
      "9 0 115.96298217773438\n",
      "10 0 88.27074432373047\n",
      "11 0 73.60272216796875\n",
      "12 0 54.10204315185547\n",
      "13 0 85.47209167480469\n",
      "14 0 93.82577514648438\n",
      "15 0 65.45106506347656\n",
      "16 0 82.41345977783203\n",
      "17 0 85.95024871826172\n",
      "18 0 59.55036926269531\n",
      "19 0 93.74092864990234\n",
      "20 0 55.077816009521484\n",
      "21 0 86.49359130859375\n",
      "22 0 69.99796295166016\n",
      "23 0 86.43306732177734\n",
      "24 0 62.204620361328125\n",
      "25 0 67.77725219726562\n",
      "26 0 42.499210357666016\n",
      "27 0 67.73573303222656\n",
      "28 0 45.587249755859375\n",
      "29 0 82.90325164794922\n",
      "30 0 76.13133239746094\n",
      "31 0 70.7483901977539\n",
      "32 0 52.561561584472656\n",
      "33 0 55.90022277832031\n",
      "34 0 63.6025390625\n",
      "35 0 66.5418701171875\n",
      "36 0 56.625160217285156\n",
      "37 0 68.45884704589844\n",
      "38 0 64.89154052734375\n",
      "39 0 65.0477523803711\n",
      "40 0 55.86342239379883\n",
      "41 0 68.58123779296875\n",
      "42 0 39.83054733276367\n",
      "43 0 55.217140197753906\n",
      "44 0 47.870506286621094\n",
      "45 0 75.48988342285156\n",
      "46 0 67.83769989013672\n",
      "47 0 58.24055099487305\n",
      "48 0 44.02098083496094\n",
      "49 0 63.167449951171875\n",
      "50 0 69.39864349365234\n",
      "51 0 61.39183807373047\n",
      "52 0 52.291839599609375\n",
      "53 0 71.27188873291016\n",
      "54 0 69.89665985107422\n",
      "55 0 44.036006927490234\n",
      "56 0 85.89662170410156\n",
      "57 0 70.10979461669922\n",
      "58 0 66.90044403076172\n",
      "59 0 53.54655838012695\n",
      "60 0 74.29672241210938\n",
      "61 0 65.24820709228516\n",
      "62 0 91.204833984375\n",
      "63 0 65.20597839355469\n",
      "64 0 68.12822723388672\n",
      "65 0 53.14548873901367\n",
      "66 0 70.31301879882812\n",
      "67 0 69.78529357910156\n",
      "68 0 65.64244079589844\n",
      "69 0 48.44663619995117\n",
      "70 0 93.03770446777344\n",
      "71 0 54.24449157714844\n",
      "72 0 50.377960205078125\n",
      "73 0 66.4074478149414\n",
      "74 0 51.002689361572266\n",
      "75 0 63.867366790771484\n",
      "76 0 73.70039367675781\n",
      "77 0 62.21180725097656\n",
      "78 0 76.00627136230469\n",
      "79 0 72.4576644897461\n",
      "80 0 60.43861389160156\n",
      "81 0 65.43694305419922\n",
      "82 0 71.2429428100586\n",
      "83 0 62.93575668334961\n",
      "84 0 53.209625244140625\n",
      "85 0 67.33334350585938\n",
      "86 0 64.2601547241211\n",
      "87 0 60.56397247314453\n",
      "88 0 77.70140075683594\n",
      "89 0 53.88037872314453\n",
      "90 0 74.5298843383789\n",
      "91 0 70.19718933105469\n",
      "92 0 55.79096221923828\n",
      "93 0 48.381065368652344\n",
      "94 0 49.98536682128906\n",
      "95 0 64.78462219238281\n",
      "96 0 74.40821838378906\n",
      "97 0 65.15110778808594\n",
      "98 0 76.70938110351562\n",
      "99 0 53.47407531738281\n",
      "100 0 66.00917053222656\n",
      "101 0 61.36985778808594\n",
      "102 0 60.72121810913086\n",
      "103 0 59.95698547363281\n",
      "104 0 74.97846984863281\n",
      "105 0 74.81732177734375\n",
      "106 0 78.26173400878906\n",
      "107 0 75.6301498413086\n",
      "108 0 57.650535583496094\n",
      "109 0 69.0658187866211\n",
      "110 0 73.92396545410156\n",
      "111 0 54.29443359375\n",
      "112 0 53.14140319824219\n",
      "113 0 83.79454040527344\n",
      "114 0 60.475608825683594\n",
      "115 0 68.12730407714844\n",
      "116 0 70.674560546875\n",
      "117 0 91.051513671875\n",
      "118 0 72.60081481933594\n",
      "119 0 59.51094436645508\n",
      "120 0 61.57708740234375\n",
      "121 0 47.305931091308594\n",
      "122 0 79.67977905273438\n",
      "123 0 65.27059936523438\n",
      "124 0 77.66012573242188\n",
      "125 0 41.14038848876953\n",
      "126 0 70.15296936035156\n",
      "127 0 61.45195007324219\n",
      "128 0 76.71806335449219\n",
      "129 0 62.16294860839844\n",
      "130 0 83.33436584472656\n",
      "131 0 63.185447692871094\n",
      "132 0 54.04339599609375\n",
      "133 0 64.8795166015625\n",
      "134 0 72.62078857421875\n",
      "135 0 58.37847137451172\n",
      "136 0 66.04573059082031\n",
      "137 0 41.95465850830078\n",
      "138 0 61.66350555419922\n",
      "139 0 55.90514373779297\n",
      "140 0 33.71870040893555\n",
      "141 0 57.84435272216797\n",
      "142 0 83.16084289550781\n",
      "143 0 57.68479537963867\n",
      "144 0 57.81134796142578\n",
      "145 0 61.484130859375\n",
      "146 0 73.21853637695312\n",
      "147 0 83.48406982421875\n",
      "148 0 73.6597900390625\n",
      "149 0 64.75294494628906\n",
      "150 0 83.13720703125\n",
      "151 0 78.86593627929688\n",
      "152 0 61.28185272216797\n",
      "153 0 56.57371139526367\n",
      "154 0 78.75182342529297\n",
      "155 0 79.26582336425781\n",
      "156 0 63.13417053222656\n",
      "157 0 62.742431640625\n",
      "158 0 38.52998352050781\n",
      "159 0 53.43752670288086\n",
      "160 0 55.243587493896484\n",
      "161 0 70.46444702148438\n",
      "162 0 74.3536376953125\n",
      "163 0 56.618919372558594\n",
      "164 0 44.90016555786133\n",
      "165 0 59.344200134277344\n",
      "166 0 57.843955993652344\n",
      "167 0 74.42949676513672\n",
      "168 0 50.39234161376953\n",
      "169 0 68.99823760986328\n",
      "170 0 59.114227294921875\n",
      "171 0 62.43684005737305\n",
      "172 0 64.60826110839844\n",
      "173 0 87.34281921386719\n",
      "174 0 45.26569366455078\n",
      "175 0 43.67040252685547\n",
      "176 0 59.86814498901367\n",
      "177 0 42.78338623046875\n",
      "178 0 69.36451721191406\n",
      "179 0 63.320716857910156\n",
      "180 0 84.20587158203125\n",
      "181 0 53.423194885253906\n",
      "182 0 59.931800842285156\n",
      "183 0 55.09739303588867\n",
      "184 0 44.7717170715332\n",
      "185 0 49.20975875854492\n",
      "186 0 64.11874389648438\n",
      "187 0 58.529022216796875\n",
      "188 0 61.038970947265625\n",
      "189 0 88.92854309082031\n",
      "190 0 80.1312484741211\n",
      "191 0 71.97665405273438\n",
      "192 0 78.20970153808594\n",
      "193 0 71.20404052734375\n",
      "194 0 63.249053955078125\n",
      "195 0 67.389892578125\n",
      "196 0 73.64215087890625\n",
      "197 0 46.483604431152344\n",
      "198 0 49.5601806640625\n",
      "199 0 61.55291748046875\n"
     ]
    }
   ],
   "source": [
    "train_mae_losses, test_mae_losses = train(model, train_db, optimizer, normed_test_data, test_labels)"
   ]
  },
  {
   "cell_type": "code",
   "execution_count": 16,
   "metadata": {
    "scrolled": true
   },
   "outputs": [
    {
     "data": {
      "image/png": "[encoded data removed]",
      "text/plain": [
       "<Figure size 432x288 with 1 Axes>"
      ]
     },
     "metadata": {
      "needs_background": "light"
     },
     "output_type": "display_data"
    }
   ],
   "source": [
    "plot(train_mae_losses, test_mae_losses)"
   ]
  },
  {
   "cell_type": "code",
   "execution_count": null,
   "metadata": {},
   "outputs": [],
   "source": []
  }
 ],
 "metadata": {
  "kernelspec": {
   "display_name": "Python 3",
   "language": "python",
   "name": "python3"
  },
  "language_info": {
   "codemirror_mode": {
    "name": "ipython",
    "version": 3
   },
   "file_extension": ".py",
   "mimetype": "text/x-python",
   "name": "python",
   "nbconvert_exporter": "python",
   "pygments_lexer": "ipython3",
   "version": "3.7.6"
  },
  "toc": {
   "base_numbering": 1,
   "nav_menu": {},
   "number_sections": true,
   "sideBar": true,
   "skip_h1_title": true,
   "title_cell": "Table of Contents",
   "title_sidebar": "Contents",
   "toc_cell": false,
   "toc_position": {},
   "toc_section_display": true,
   "toc_window_display": true
  }
 },
 "nbformat": 4,
 "nbformat_minor": 1
}
